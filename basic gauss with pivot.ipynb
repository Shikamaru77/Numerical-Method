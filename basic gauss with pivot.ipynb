{
 "cells": [
  {
   "cell_type": "code",
   "execution_count": 8,
   "id": "85452725",
   "metadata": {},
   "outputs": [
    {
     "name": "stdout",
     "output_type": "stream",
     "text": [
      "[1.1875, 1.8125, 0.8750000000000001]\n"
     ]
    }
   ],
   "source": [
    "#from matrix import height\n",
    "def column(m, c):\n",
    "  return [m[i][c] for i in range(len(m))]\n",
    "\n",
    "def row(m, r):\n",
    "  return m[r][:]\n",
    "  \n",
    "def height(m):\n",
    "  return len(m)\n",
    "  \n",
    "def width(m):\n",
    "  return len(m[0])\n",
    "  \n",
    "def print_matrix(m):\n",
    "  for i in range(len(m)):\n",
    "    print(m[i])\n",
    "  print('')\n",
    "def gaussian_elimination_with_pivot(m):\n",
    "# forward elimination\n",
    "  n = height(m)\n",
    "  for i in range(n):\n",
    "    pivot(m, n, i)\n",
    "    for j in range(i+1, n):\n",
    "      m[j] = [m[j][k] - m[i][k]*m[j][i]/m[i][i] for k in range(n+1)]\n",
    "\n",
    "  if m[n-1][n-1] == 0: raise ValueError('No unique solution')\n",
    "\n",
    "  # backward substitution\n",
    "  x = [0] * n\n",
    "  for i in range(n-1, -1, -1):\n",
    "    s = sum(m[i][j] * x[j] for j in range(i, n))\n",
    "    x[i] = (m[i][n] - s) / m[i][i]\n",
    "  return x\n",
    "def pivot(m, n, i):\n",
    "  max = -1e100\n",
    "  for r in range(i, n):\n",
    "    if max < abs(m[r][i]):\n",
    "      max_row = r\n",
    "      max = abs(m[r][i])\n",
    "  m[i], m[max_row] = m[max_row], m[i]\n",
    "\n",
    "if __name__ == '__main__':\n",
    "  #m = [[0,-2,6,-10], [-1,3,-6,5], [4,-12,8,12]]\n",
    "  #m = [[1,-1,3,2], [3,-3,1,-1], [1,1,0,3]]\n",
    "  m = [[1,-1,3,2], [6,-6,2,-2], [1,1,0,3]]\n",
    "  print(gaussian_elimination_with_pivot(m))\n",
    "\n",
    "  \n"
   ]
  },
  {
   "cell_type": "code",
   "execution_count": null,
   "id": "0a1cf012",
   "metadata": {},
   "outputs": [],
   "source": []
  }
 ],
 "metadata": {
  "kernelspec": {
   "display_name": "Python 3 (ipykernel)",
   "language": "python",
   "name": "python3"
  },
  "language_info": {
   "codemirror_mode": {
    "name": "ipython",
    "version": 3
   },
   "file_extension": ".py",
   "mimetype": "text/x-python",
   "name": "python",
   "nbconvert_exporter": "python",
   "pygments_lexer": "ipython3",
   "version": "3.9.12"
  }
 },
 "nbformat": 4,
 "nbformat_minor": 5
}
