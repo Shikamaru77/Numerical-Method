{
 "cells": [
  {
   "cell_type": "code",
   "execution_count": 7,
   "id": "de57c07d",
   "metadata": {},
   "outputs": [
    {
     "ename": "NameError",
     "evalue": "name 'height' is not defined",
     "output_type": "error",
     "traceback": [
      "\u001b[1;31m---------------------------------------------------------------------------\u001b[0m",
      "\u001b[1;31mNameError\u001b[0m                                 Traceback (most recent call last)",
      "Input \u001b[1;32mIn [7]\u001b[0m, in \u001b[0;36m<cell line: 27>\u001b[1;34m()\u001b[0m\n\u001b[0;32m     27\u001b[0m \u001b[38;5;28;01mif\u001b[39;00m \u001b[38;5;18m__name__\u001b[39m \u001b[38;5;241m==\u001b[39m \u001b[38;5;124m'\u001b[39m\u001b[38;5;124m__main__\u001b[39m\u001b[38;5;124m'\u001b[39m:\n\u001b[0;32m     28\u001b[0m   \u001b[38;5;66;03m#m = [[0,-2,6,-10], [-1,3,-6,5], [4,-12,8,12]]\u001b[39;00m\n\u001b[0;32m     29\u001b[0m   \u001b[38;5;66;03m#m = [[1,-1,3,2], [3,-3,1,-1], [1,1,0,3]]\u001b[39;00m\n\u001b[0;32m     30\u001b[0m   m \u001b[38;5;241m=\u001b[39m [[\u001b[38;5;241m1\u001b[39m,\u001b[38;5;241m-\u001b[39m\u001b[38;5;241m1\u001b[39m,\u001b[38;5;241m3\u001b[39m,\u001b[38;5;241m2\u001b[39m], [\u001b[38;5;241m6\u001b[39m,\u001b[38;5;241m-\u001b[39m\u001b[38;5;241m6\u001b[39m,\u001b[38;5;241m2\u001b[39m,\u001b[38;5;241m-\u001b[39m\u001b[38;5;241m2\u001b[39m], [\u001b[38;5;241m1\u001b[39m,\u001b[38;5;241m1\u001b[39m,\u001b[38;5;241m0\u001b[39m,\u001b[38;5;241m3\u001b[39m]]\n\u001b[1;32m---> 31\u001b[0m   \u001b[38;5;28mprint\u001b[39m(\u001b[43mgaussian_elimination_with_pivot\u001b[49m\u001b[43m(\u001b[49m\u001b[43mm\u001b[49m\u001b[43m)\u001b[49m)\n\u001b[0;32m     32\u001b[0m \u001b[38;5;28;01mdef\u001b[39;00m \u001b[38;5;21mcolumn\u001b[39m(m, c):\n\u001b[0;32m     33\u001b[0m   \u001b[38;5;28;01mreturn\u001b[39;00m [m[i][c] \u001b[38;5;28;01mfor\u001b[39;00m i \u001b[38;5;129;01min\u001b[39;00m \u001b[38;5;28mrange\u001b[39m(\u001b[38;5;28mlen\u001b[39m(m))]\n",
      "Input \u001b[1;32mIn [7]\u001b[0m, in \u001b[0;36mgaussian_elimination_with_pivot\u001b[1;34m(m)\u001b[0m\n\u001b[0;32m      3\u001b[0m \u001b[38;5;28;01mdef\u001b[39;00m \u001b[38;5;21mgaussian_elimination_with_pivot\u001b[39m(m):\n\u001b[0;32m      4\u001b[0m \u001b[38;5;66;03m# forward elimination\u001b[39;00m\n\u001b[1;32m----> 5\u001b[0m   n \u001b[38;5;241m=\u001b[39m \u001b[43mheight\u001b[49m(m)\n\u001b[0;32m      6\u001b[0m   \u001b[38;5;28;01mfor\u001b[39;00m i \u001b[38;5;129;01min\u001b[39;00m \u001b[38;5;28mrange\u001b[39m(n):\n\u001b[0;32m      7\u001b[0m     pivot(m, n, i)\n",
      "\u001b[1;31mNameError\u001b[0m: name 'height' is not defined"
     ]
    }
   ],
   "source": [
    "#from matrix import height\n",
    "\n",
    "def gaussian_elimination_with_pivot(m):\n",
    "# forward elimination\n",
    "  n = height(m)\n",
    "  for i in range(n):\n",
    "    pivot(m, n, i)\n",
    "    for j in range(i+1, n):\n",
    "      m[j] = [m[j][k] - m[i][k]*m[j][i]/m[i][i] for k in range(n+1)]\n",
    "\n",
    "  if m[n-1][n-1] == 0: raise ValueError('No unique solution')\n",
    "\n",
    "  # backward substitution\n",
    "  x = [0] * n\n",
    "  for i in range(n-1, -1, -1):\n",
    "    s = sum(m[i][j] * x[j] for j in range(i, n))\n",
    "    x[i] = (m[i][n] - s) / m[i][i]\n",
    "  return x\n",
    "def pivot(m, n, i):\n",
    "  max = -1e100\n",
    "  for r in range(i, n):\n",
    "    if max < abs(m[r][i]):\n",
    "      max_row = r\n",
    "      max = abs(m[r][i])\n",
    "  m[i], m[max_row] = m[max_row], m[i]\n",
    "\n",
    "if __name__ == '__main__':\n",
    "  #m = [[0,-2,6,-10], [-1,3,-6,5], [4,-12,8,12]]\n",
    "  #m = [[1,-1,3,2], [3,-3,1,-1], [1,1,0,3]]\n",
    "  m = [[1,-1,3,2], [6,-6,2,-2], [1,1,0,3]]\n",
    "  print(gaussian_elimination_with_pivot(m))\n",
    "def column(m, c):\n",
    "  return [m[i][c] for i in range(len(m))]\n",
    "\n",
    "def row(m, r):\n",
    "  return m[r][:]\n",
    "  \n",
    "def height(m):\n",
    "  return len(m)\n",
    "  \n",
    "def width(m):\n",
    "  return len(m[0])\n",
    "  \n",
    "def print_matrix(m):\n",
    "  for i in range(len(m)):\n",
    "    print(m[i])\n",
    "  print('')\n",
    "  \n"
   ]
  },
  {
   "cell_type": "code",
   "execution_count": null,
   "id": "8be32ef5",
   "metadata": {},
   "outputs": [],
   "source": []
  }
 ],
 "metadata": {
  "kernelspec": {
   "display_name": "Python 3 (ipykernel)",
   "language": "python",
   "name": "python3"
  },
  "language_info": {
   "codemirror_mode": {
    "name": "ipython",
    "version": 3
   },
   "file_extension": ".py",
   "mimetype": "text/x-python",
   "name": "python",
   "nbconvert_exporter": "python",
   "pygments_lexer": "ipython3",
   "version": "3.9.12"
  }
 },
 "nbformat": 4,
 "nbformat_minor": 5
}
